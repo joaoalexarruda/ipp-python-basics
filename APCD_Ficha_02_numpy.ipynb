{
 "cells": [
  {
   "cell_type": "code",
   "execution_count": 1,
   "metadata": {},
   "outputs": [],
   "source": [
    "import numpy as np"
   ]
  },
  {
   "cell_type": "markdown",
   "metadata": {},
   "source": [
    "1.  Use a biblioteca NumPy para criar um vetor de 24 valores aleatórios inteiros entre 10 e 20"
   ]
  },
  {
   "cell_type": "code",
   "execution_count": 2,
   "metadata": {},
   "outputs": [
    {
     "data": {
      "text/plain": [
       "array([17, 16, 19, 19, 13, 18, 16, 11, 14, 14, 11, 10, 18, 12, 13, 16, 16,\n",
       "       18, 15, 14, 20, 15, 14, 12])"
      ]
     },
     "execution_count": 2,
     "metadata": {},
     "output_type": "execute_result"
    }
   ],
   "source": [
    "arr = np.random.randint(10, 21, size=24)\n",
    "arr"
   ]
  },
  {
   "cell_type": "markdown",
   "metadata": {},
   "source": [
    "a.  Crie uma cópia do vetor original e substitua os elemento do vetor com índice ímpar com o valor -5 (sem alterar o vetor original). "
   ]
  },
  {
   "cell_type": "code",
   "execution_count": 3,
   "metadata": {},
   "outputs": [
    {
     "data": {
      "text/plain": [
       "array([17, -5, 19, -5, 13, -5, 16, -5, 14, -5, 11, -5, 18, -5, 13, -5, 16,\n",
       "       -5, 15, -5, 20, -5, 14, -5])"
      ]
     },
     "execution_count": 3,
     "metadata": {},
     "output_type": "execute_result"
    }
   ],
   "source": [
    "# Cria uma cópia do array\n",
    "arr_copy = arr.copy()\n",
    "\n",
    "# Substitui os indices impares por -5\n",
    "arr_copy[1::2] = -5\n",
    "\n",
    "# Imprime array original\n",
    "arr_copy"
   ]
  },
  {
   "cell_type": "markdown",
   "metadata": {},
   "source": [
    "b.  Extraia do vetor original os valores entre 10 (inclusive) e 15 (inclusive)"
   ]
  },
  {
   "cell_type": "code",
   "execution_count": 4,
   "metadata": {},
   "outputs": [
    {
     "data": {
      "text/plain": [
       "array([13, 11, 14, 14, 11, 10, 12, 13, 15, 14, 15, 14, 12])"
      ]
     },
     "execution_count": 4,
     "metadata": {},
     "output_type": "execute_result"
    }
   ],
   "source": [
    "extracted_values = arr[(arr >= 10) & (arr <= 15)]\n",
    "extracted_values"
   ]
  },
  {
   "cell_type": "markdown",
   "metadata": {},
   "source": [
    "c.  Extraia do vetor original os valores superiores a 15."
   ]
  },
  {
   "cell_type": "code",
   "execution_count": 5,
   "metadata": {},
   "outputs": [
    {
     "data": {
      "text/plain": [
       "array([17, 16, 19, 19, 18, 16, 18, 16, 16, 18, 20])"
      ]
     },
     "execution_count": 5,
     "metadata": {},
     "output_type": "execute_result"
    }
   ],
   "source": [
    "extracted_values = arr[(arr > 15)]\n",
    "extracted_values"
   ]
  },
  {
   "cell_type": "markdown",
   "metadata": {},
   "source": [
    "d.  Converta o vetor inicial  numa matriz M de 2 dimensões com 6 linhas e 4 colunas. "
   ]
  },
  {
   "cell_type": "code",
   "execution_count": 6,
   "metadata": {},
   "outputs": [
    {
     "data": {
      "text/plain": [
       "array([[17, 16, 19, 19],\n",
       "       [13, 18, 16, 11],\n",
       "       [14, 14, 11, 10],\n",
       "       [18, 12, 13, 16],\n",
       "       [16, 18, 15, 14],\n",
       "       [20, 15, 14, 12]])"
      ]
     },
     "execution_count": 6,
     "metadata": {},
     "output_type": "execute_result"
    }
   ],
   "source": [
    "M = arr.reshape(6, 4)\n",
    "M"
   ]
  },
  {
   "cell_type": "markdown",
   "metadata": {},
   "source": [
    "e.  Extraia da matriz M a segunda e terceira coluna. "
   ]
  },
  {
   "cell_type": "code",
   "execution_count": 7,
   "metadata": {},
   "outputs": [
    {
     "data": {
      "text/plain": [
       "array([[16, 19],\n",
       "       [18, 16],\n",
       "       [14, 11],\n",
       "       [12, 13],\n",
       "       [18, 15],\n",
       "       [15, 14]])"
      ]
     },
     "execution_count": 7,
     "metadata": {},
     "output_type": "execute_result"
    }
   ],
   "source": [
    "second_third_columns = M[:, 1:3]\n",
    "second_third_columns"
   ]
  },
  {
   "cell_type": "markdown",
   "metadata": {},
   "source": [
    "f.  Extraia da matriz M as duas últimas linhas. "
   ]
  },
  {
   "cell_type": "code",
   "execution_count": 8,
   "metadata": {},
   "outputs": [
    {
     "data": {
      "text/plain": [
       "array([[16, 18, 15, 14],\n",
       "       [20, 15, 14, 12]])"
      ]
     },
     "execution_count": 8,
     "metadata": {},
     "output_type": "execute_result"
    }
   ],
   "source": [
    "last_two_rows = M[-2:]\n",
    "last_two_rows"
   ]
  },
  {
   "cell_type": "markdown",
   "metadata": {},
   "source": [
    "g.  Empilhe as matrizes que resultaram das duas alíneas anteriores. Justifique o tipo \n",
    "de empilhamento usado (vertical ou horizontal)"
   ]
  },
  {
   "cell_type": "code",
   "execution_count": 9,
   "metadata": {},
   "outputs": [
    {
     "data": {
      "text/plain": [
       "array([[17, 16, 19, 19, 16, 19],\n",
       "       [13, 18, 16, 11, 18, 16],\n",
       "       [14, 14, 11, 10, 14, 11],\n",
       "       [18, 12, 13, 16, 12, 13],\n",
       "       [16, 18, 15, 14, 18, 15],\n",
       "       [20, 15, 14, 12, 15, 14]])"
      ]
     },
     "execution_count": 9,
     "metadata": {},
     "output_type": "execute_result"
    }
   ],
   "source": [
    "np.hstack((M, second_third_columns))"
   ]
  },
  {
   "cell_type": "code",
   "execution_count": 10,
   "metadata": {},
   "outputs": [
    {
     "data": {
      "text/plain": [
       "array([[17, 16, 19, 19],\n",
       "       [13, 18, 16, 11],\n",
       "       [14, 14, 11, 10],\n",
       "       [18, 12, 13, 16],\n",
       "       [16, 18, 15, 14],\n",
       "       [20, 15, 14, 12],\n",
       "       [16, 18, 15, 14],\n",
       "       [20, 15, 14, 12]])"
      ]
     },
     "execution_count": 10,
     "metadata": {},
     "output_type": "execute_result"
    }
   ],
   "source": [
    "np.vstack((M, last_two_rows))"
   ]
  },
  {
   "cell_type": "markdown",
   "metadata": {},
   "source": [
    "h.  Use a matriz M e inverta a ordem dos elementos  da primeira coluna e da última \n",
    "coluna "
   ]
  },
  {
   "cell_type": "code",
   "execution_count": 11,
   "metadata": {},
   "outputs": [
    {
     "data": {
      "text/plain": [
       "array([[20, 16, 19, 12],\n",
       "       [16, 18, 16, 14],\n",
       "       [18, 14, 11, 16],\n",
       "       [14, 12, 13, 10],\n",
       "       [13, 18, 15, 11],\n",
       "       [17, 15, 14, 19]])"
      ]
     },
     "execution_count": 11,
     "metadata": {},
     "output_type": "execute_result"
    }
   ],
   "source": [
    "M[:,0] = M[::-1, 0]\n",
    "M[:,-1] = M[::-1, -1]\n",
    "M"
   ]
  },
  {
   "cell_type": "markdown",
   "metadata": {},
   "source": [
    "i.  Use a matriz M e inverta a ordem dos elementos da primeira linha e última linha."
   ]
  },
  {
   "cell_type": "code",
   "execution_count": 12,
   "metadata": {},
   "outputs": [
    {
     "data": {
      "text/plain": [
       "array([[12, 19, 16, 20],\n",
       "       [16, 18, 16, 14],\n",
       "       [18, 14, 11, 16],\n",
       "       [14, 12, 13, 10],\n",
       "       [13, 18, 15, 11],\n",
       "       [19, 14, 15, 17]])"
      ]
     },
     "execution_count": 12,
     "metadata": {},
     "output_type": "execute_result"
    }
   ],
   "source": [
    "M[0,:] = M[0, ::-1]\n",
    "M[-1,:] = M[-1, ::-1]\n",
    "M"
   ]
  },
  {
   "cell_type": "markdown",
   "metadata": {},
   "source": [
    "2.  O dataset iris contém informação sobre as dimensões (comprimento e largura) das \n",
    "sépalas e pétalas de três espécies de flores iris.  \n",
    "O dataset pode ser lido da sua localização no repositório da UC Irvine para uma matriz \n",
    "numpy (iris) através das seguintes instruções:"
   ]
  },
  {
   "cell_type": "code",
   "execution_count": 13,
   "metadata": {},
   "outputs": [
    {
     "data": {
      "text/plain": [
       "array([[5.1, 3.5, 1.4, 0.2, nan],\n",
       "       [4.9, 3. , 1.4, 0.2, nan],\n",
       "       [4.7, 3.2, 1.3, 0.2, nan],\n",
       "       [4.6, 3.1, 1.5, 0.2, nan],\n",
       "       [5. , 3.6, 1.4, 0.2, nan]])"
      ]
     },
     "execution_count": 13,
     "metadata": {},
     "output_type": "execute_result"
    }
   ],
   "source": [
    "url = 'https://archive.ics.uci.edu/ml/machine-learning-databases/iris/iris.data' \n",
    "iris = np.genfromtxt(url, delimiter=',', dtype='float64')\n",
    "iris[:5]"
   ]
  },
  {
   "cell_type": "markdown",
   "metadata": {},
   "source": [
    "a.  Verifique qual é a forma da matriz iris criada com as instruções anteriores. Cada \n",
    "linha corresponde a uma flor. Quantas flores estão representadas no dataset?"
   ]
  },
  {
   "cell_type": "code",
   "execution_count": 14,
   "metadata": {},
   "outputs": [
    {
     "name": "stdout",
     "output_type": "stream",
     "text": [
      "São represantadas 150 flores no dataset\n"
     ]
    }
   ],
   "source": [
    "print(f'São represantadas {iris.shape[0]} flores no dataset')"
   ]
  },
  {
   "cell_type": "markdown",
   "metadata": {},
   "source": [
    "b.  Verifique  que  a  última  coluna  da  matriz  contém  elementos  que  não  são \n",
    "numéricos (nan) e descarte essa coluna da matriz. Verifique a alteração da forma \n",
    "da matriz."
   ]
  },
  {
   "cell_type": "code",
   "execution_count": 15,
   "metadata": {},
   "outputs": [
    {
     "data": {
      "text/plain": [
       "(150, 4)"
      ]
     },
     "execution_count": 15,
     "metadata": {},
     "output_type": "execute_result"
    }
   ],
   "source": [
    "iris = np.delete(iris, -1, axis=1)\n",
    "iris.shape"
   ]
  },
  {
   "cell_type": "markdown",
   "metadata": {},
   "source": [
    "c.  Verifique agora se a matriz iris contém algum elemento que não seja um número \n",
    "(nan)"
   ]
  },
  {
   "cell_type": "code",
   "execution_count": 16,
   "metadata": {},
   "outputs": [
    {
     "name": "stdout",
     "output_type": "stream",
     "text": [
      "A matriz iris possui 0 elementos NaN.\n"
     ]
    }
   ],
   "source": [
    "print(f'A matriz iris possui {np.isnan(iris).sum()} elementos NaN.')"
   ]
  },
  {
   "cell_type": "markdown",
   "metadata": {},
   "source": [
    "A primeira coluna de iris representa o comprimento das sépalas.    \n",
    "A segunda coluna de iris representa a largura das sépalas    \n",
    "A terceira coluna de iris representa o comprimento das pétalas    \n",
    "A quarta coluna de iris representa a largura das pétalas   "
   ]
  },
  {
   "cell_type": "markdown",
   "metadata": {},
   "source": [
    "d.  Determine a média, mediana e desvio padrão das quantidades representadas em \n",
    "cada coluna. "
   ]
  },
  {
   "cell_type": "code",
   "execution_count": 17,
   "metadata": {},
   "outputs": [
    {
     "name": "stdout",
     "output_type": "stream",
     "text": [
      "Médias:  [5.843333333333335, 3.0540000000000007, 3.7586666666666693, 1.1986666666666672]\n",
      "Medianas:  [5.8, 3.0, 4.35, 1.3]\n",
      "Desvios Padrão:  [0.8253012917851409, 0.4321465800705435, 1.7585291834055201, 0.760612618588172]\n"
     ]
    }
   ],
   "source": [
    "mean_values = np.mean(iris, axis=0)\n",
    "median_values = np.median(iris, axis=0)\n",
    "std_values = np.std(iris, axis=0)\n",
    "\n",
    "print(\"Médias: \", [i for i in mean_values])\n",
    "print(\"Medianas: \", [i for i in median_values])\n",
    "print(\"Desvios Padrão: \", [i for i in std_values])"
   ]
  },
  {
   "cell_type": "markdown",
   "metadata": {},
   "source": [
    "e.  Ordene a matriz por ordem crescente de comprimento das pétalas. "
   ]
  },
  {
   "cell_type": "code",
   "execution_count": 18,
   "metadata": {},
   "outputs": [
    {
     "data": {
      "text/plain": [
       "array([[4.6, 3.6, 1. , 0.2],\n",
       "       [4.3, 3. , 1.1, 0.1],\n",
       "       [5.8, 4. , 1.2, 0.2],\n",
       "       [5. , 3.2, 1.2, 0.2],\n",
       "       [5. , 3.5, 1.3, 0.3]])"
      ]
     },
     "execution_count": 18,
     "metadata": {},
     "output_type": "execute_result"
    }
   ],
   "source": [
    "sorted_indices = np.argsort(iris[:, 2])\n",
    "sorted_iris = iris[sorted_indices]\n",
    "sorted_iris[:5]"
   ]
  },
  {
   "cell_type": "markdown",
   "metadata": {},
   "source": [
    "f.  Crie uma segunda matriz que contém os elementos de iris em que o comprimento \n",
    "das pétalas é superior a 1.5 e o comprimento das sépalas é menor que 1.5. \n",
    "Quantos exemplares existem com essas duas condições?"
   ]
  },
  {
   "cell_type": "code",
   "execution_count": 19,
   "metadata": {},
   "outputs": [
    {
     "name": "stdout",
     "output_type": "stream",
     "text": [
      "Existem 0 exemplares que atendem aos critérios.\n"
     ]
    }
   ],
   "source": [
    "second_matrix = iris[(iris[:, 2] > 1.5) & (iris[:, 0] < 1.5)]\n",
    "num_exemplares = second_matrix.shape[0]\n",
    "print(f'Existem {num_exemplares} exemplares que atendem aos critérios.')"
   ]
  }
 ],
 "metadata": {
  "kernelspec": {
   "display_name": "Python 3",
   "language": "python",
   "name": "python3"
  },
  "language_info": {
   "codemirror_mode": {
    "name": "ipython",
    "version": 3
   },
   "file_extension": ".py",
   "mimetype": "text/x-python",
   "name": "python",
   "nbconvert_exporter": "python",
   "pygments_lexer": "ipython3",
   "version": "3.12.0"
  }
 },
 "nbformat": 4,
 "nbformat_minor": 2
}
