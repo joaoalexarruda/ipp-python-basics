{
 "cells": [
  {
   "cell_type": "markdown",
   "metadata": {},
   "source": [
    "1.  Escreva uma função saoIguais que recebe dois números e devolve o valor True se os \n",
    "números forem iguais, False se forem diferentes. Crie código com input do utilizador \n",
    "para testar a função."
   ]
  },
  {
   "cell_type": "code",
   "execution_count": 54,
   "metadata": {},
   "outputs": [
    {
     "data": {
      "text/plain": [
       "False"
      ]
     },
     "execution_count": 54,
     "metadata": {},
     "output_type": "execute_result"
    }
   ],
   "source": [
    "def saoIguais(a: float, b: float):\n",
    "    \"\"\"Informa se dois valores são iguais\n",
    "\n",
    "    Args:\n",
    "        a (float): número qualquer\n",
    "        b (float): número qualquer\n",
    "\n",
    "    Returns:\n",
    "        bool: True para igual, False para diferente\n",
    "    \"\"\"\n",
    "    return a == b\n",
    "\n",
    "\n",
    "saoIguais(3, 4)"
   ]
  },
  {
   "cell_type": "markdown",
   "metadata": {},
   "source": [
    "2.  Escreva uma função indicaSalarioSemanal que recebe o número de horas que o \n",
    "empregado trabalha por semana e o vencimento por hora e que escreve o salário \n",
    "semanal. No salário semanal, as horas de trabalho acima das 40 são pagas a 1,5 vezes o \n",
    "valor de base (horas extraordinárias). Crie código com input do utilizador para testar a \n",
    "função."
   ]
  },
  {
   "cell_type": "code",
   "execution_count": 55,
   "metadata": {},
   "outputs": [
    {
     "data": {
      "text/plain": [
       "475.0"
      ]
     },
     "execution_count": 55,
     "metadata": {},
     "output_type": "execute_result"
    }
   ],
   "source": [
    "def indicaSalarioSemanal(numero_de_horas_por_semana: float, vencimento_por_hora: float):\n",
    "    \"\"\"Indica o salário semanal de um funcionário\n",
    "\n",
    "    Args:\n",
    "        numero_de_horas_por_semana (float): número de horas trabalhadas por semana\n",
    "        vencimento_por_hora (float): valor recebido por hora trabalhada\n",
    "\n",
    "    Returns:\n",
    "        float: Salário semanal do funcionário. \n",
    "    \"\"\"\n",
    "    if numero_de_horas_por_semana > 40:\n",
    "        return vencimento_por_hora * 40 + (vencimento_por_hora * 1.5) * (numero_de_horas_por_semana - 40)\n",
    "    elif 0 <= numero_de_horas_por_semana <= 40:\n",
    "        return vencimento_por_hora * numero_de_horas_por_semana\n",
    "    else:\n",
    "        return \"Número de horas por semana inválido\"\n",
    "\n",
    "\n",
    "indicaSalarioSemanal(45, 10)"
   ]
  },
  {
   "cell_type": "markdown",
   "metadata": {},
   "source": [
    "3.  Escrever uma função tabelaClassificações() que implementa a tabela europeia de \n",
    "classificações para as classificações obtidas em UCs de instituições de ensino superior \n",
    "portuguesas (1-20 valores).  A tabela é a seguinte:  \n",
    "\n",
    "| **Nota** | **Classificaçao** |\n",
    "|----------|-------------------|\n",
    "| 0-9      | F                 |\n",
    "| 10-13    | E                 |\n",
    "| 13-14    | D                 |\n",
    "| 15-16    | C                 |\n",
    "| 17-18    | B                 |\n",
    "| 19-20    | A                 |\n",
    "\n",
    "\n",
    "A função deve receber um inteiro que representa a nota  e devolver uma cadeia de \n",
    "carateres que representa a classificação na escala europeia. Se a nota não for válida, a \n",
    "função devolve uma mensagem de erro"
   ]
  },
  {
   "cell_type": "code",
   "execution_count": 56,
   "metadata": {},
   "outputs": [],
   "source": [
    "def tabelaClassificacoes(nota: float):\n",
    "    \"\"\"Essa função retorna a classificação de uma nota\n",
    "\n",
    "    Args:\n",
    "        nota (float): nota obtida pelo aluno\n",
    "\n",
    "    Returns:\n",
    "        str: Classificação da nota\n",
    "    \"\"\"\n",
    "    if 0 <= nota <= 9:\n",
    "        return 'F'\n",
    "    elif 10 <= nota < 13:\n",
    "        return 'E'\n",
    "    elif 13 <= nota <= 14:\n",
    "        return 'D'\n",
    "    elif 15 <= nota <= 16:\n",
    "        return 'C'\n",
    "    elif 17 <= nota <= 18:\n",
    "        return 'B'\n",
    "    elif 19 <= nota <= 20:\n",
    "        return 'A'\n",
    "    else:\n",
    "        return 'Nota inválida'"
   ]
  },
  {
   "cell_type": "markdown",
   "metadata": {},
   "source": [
    "4.  Criar um programa que cria uma lista com as classificações (na escala europeia) de uma \n",
    "turma. O programa deve começar por perguntar quantos alunos tem a turma e deve usar \n",
    "a função desenvolvida no exercício anterior."
   ]
  },
  {
   "cell_type": "code",
   "execution_count": 57,
   "metadata": {},
   "outputs": [
    {
     "data": {
      "text/plain": [
       "['E', 'C', 'B', 'A']"
      ]
     },
     "execution_count": 57,
     "metadata": {},
     "output_type": "execute_result"
    }
   ],
   "source": [
    "def criar_lista_class_turma():\n",
    "    \"\"\"Cria uma lista com as classificações de uma turma\n",
    "\n",
    "    Returns:\n",
    "        list: Retorna a nota de cada aluno da turma\n",
    "    \"\"\"\n",
    "    lista_class_turma = []\n",
    "    num_alunos = int(input('Quantos alunos tem na turma? '))\n",
    "    for i in range(num_alunos):\n",
    "        lista_class_turma.append(tabelaClassificacoes(\n",
    "            float(input(f'Qual a nota do aluno {i}? '))))\n",
    "    return lista_class_turma\n",
    "\n",
    "\n",
    "criar_lista_class_turma()"
   ]
  },
  {
   "cell_type": "markdown",
   "metadata": {},
   "source": [
    "5.  Crie uma lista chamada lista_anos, que começa com o ano do seu aniversário e \n",
    "contém todos os anos até ao seu quarto aniversário. Por exemplo, se tiver nascido em \n",
    "1980, a lista seria lista_anos=[1980, 1981, 1982, 1983, 1984, 1985]. "
   ]
  },
  {
   "cell_type": "code",
   "execution_count": 58,
   "metadata": {},
   "outputs": [
    {
     "data": {
      "text/plain": [
       "[1998, 1999, 2000, 2001, 2002]"
      ]
     },
     "execution_count": 58,
     "metadata": {},
     "output_type": "execute_result"
    }
   ],
   "source": [
    "ano_de_nascimento = 1998\n",
    "\n",
    "lista_anos = [x for x in range(ano_de_nascimento, ano_de_nascimento + 5)]\n",
    "lista_anos"
   ]
  },
  {
   "cell_type": "markdown",
   "metadata": {},
   "source": [
    "\n",
    "\n",
    "\n",
    "a.  Escreva uma instrução que indica o ano em que foi o seu terceiro aniversário ( \n",
    "não esquecer que tinha 0 anos no primeiro ano da lista) \n",
    "\n",
    "\n"
   ]
  },
  {
   "cell_type": "code",
   "execution_count": 59,
   "metadata": {},
   "outputs": [
    {
     "data": {
      "text/plain": [
       "2001"
      ]
     },
     "execution_count": 59,
     "metadata": {},
     "output_type": "execute_result"
    }
   ],
   "source": [
    "lista_anos[3]"
   ]
  },
  {
   "cell_type": "markdown",
   "metadata": {},
   "source": [
    "b.  Escreva uma instrução que indica o ano da lista em que foi mais velho. Utiliza \n",
    "índice negativo."
   ]
  },
  {
   "cell_type": "code",
   "execution_count": 60,
   "metadata": {},
   "outputs": [
    {
     "data": {
      "text/plain": [
       "2002"
      ]
     },
     "execution_count": 60,
     "metadata": {},
     "output_type": "execute_result"
    }
   ],
   "source": [
    "lista_anos[-1]"
   ]
  },
  {
   "cell_type": "markdown",
   "metadata": {},
   "source": [
    "6.  Crie uma lista que contém o primeiro nome dos galardoados com o Prémio Nobel da \n",
    "Paz nos últimos três anos. "
   ]
  },
  {
   "cell_type": "code",
   "execution_count": 61,
   "metadata": {},
   "outputs": [
    {
     "data": {
      "text/plain": [
       "['Narges Mohammadi',\n",
       " 'Ales Bialiatski , Memorial and Center for Civil Liberties',\n",
       " 'Maria Ressa and Dmitry Muratov']"
      ]
     },
     "execution_count": 61,
     "metadata": {},
     "output_type": "execute_result"
    }
   ],
   "source": [
    "from selenium import webdriver\n",
    "from selenium.webdriver.common.by import By\n",
    "\n",
    "url = 'https://www.nobelpeaceprize.org/laureates/'\n",
    "\n",
    "driver = webdriver.Edge()\n",
    "driver.get(url)\n",
    "\n",
    "laureates_peace = driver.find_elements(By.CLASS_NAME, 'laureates-title')\n",
    "laureates_peace = [x.text for x in laureates_peace]\n",
    "last_three_winners = laureates_peace[:3]\n",
    "\n",
    "driver.quit()\n",
    "last_three_winners"
   ]
  },
  {
   "cell_type": "markdown",
   "metadata": {},
   "source": [
    "a. Crie código para iterar pela lista e escrever os nomes da lista "
   ]
  },
  {
   "cell_type": "code",
   "execution_count": 62,
   "metadata": {},
   "outputs": [
    {
     "name": "stdout",
     "output_type": "stream",
     "text": [
      "Narges Mohammadi\n",
      "Ales Bialiatski , Memorial and Center for Civil Liberties\n",
      "Maria Ressa and Dmitry Muratov\n"
     ]
    }
   ],
   "source": [
    "for person in last_three_winners:\n",
    "    print(person)"
   ]
  },
  {
   "cell_type": "markdown",
   "metadata": {},
   "source": [
    "b. Adicione à lista os galardoados com o prémio há quatro e cinco anos. "
   ]
  },
  {
   "cell_type": "code",
   "execution_count": 63,
   "metadata": {},
   "outputs": [
    {
     "data": {
      "text/plain": [
       "['Narges Mohammadi',\n",
       " 'Ales Bialiatski , Memorial and Center for Civil Liberties',\n",
       " 'Maria Ressa and Dmitry Muratov',\n",
       " 'World Food Programme',\n",
       " 'Abiy Ahmed Ali']"
      ]
     },
     "execution_count": 63,
     "metadata": {},
     "output_type": "execute_result"
    }
   ],
   "source": [
    "last_three_winners.append(laureates_peace[3])\n",
    "last_three_winners.append(laureates_peace[4])\n",
    "last_three_winners"
   ]
  },
  {
   "cell_type": "markdown",
   "metadata": {},
   "source": [
    "c. Efetue uma cópia ordenada da lista. "
   ]
  },
  {
   "cell_type": "code",
   "execution_count": 64,
   "metadata": {},
   "outputs": [
    {
     "data": {
      "text/plain": [
       "['Abiy Ahmed Ali',\n",
       " 'Ales Bialiatski , Memorial and Center for Civil Liberties',\n",
       " 'Maria Ressa and Dmitry Muratov',\n",
       " 'Narges Mohammadi',\n",
       " 'World Food Programme']"
      ]
     },
     "execution_count": 64,
     "metadata": {},
     "output_type": "execute_result"
    }
   ],
   "source": [
    "copied_list = list(last_three_winners)\n",
    "copied_list.sort()\n",
    "copied_list"
   ]
  },
  {
   "cell_type": "markdown",
   "metadata": {},
   "source": [
    "d.  Escreva uma função que recebe a lista de prémios Nobel da Paz dos últimos \n",
    "cinco anos e um nome e devolve o valor lógico associado à questão: o nome \n",
    "consta da lista?"
   ]
  },
  {
   "cell_type": "code",
   "execution_count": 65,
   "metadata": {},
   "outputs": [
    {
     "data": {
      "text/plain": [
       "True"
      ]
     },
     "execution_count": 65,
     "metadata": {},
     "output_type": "execute_result"
    }
   ],
   "source": [
    "def nome_consta(lista: list, nome: str):\n",
    "    \"\"\"Checks if searched name is on the list\n",
    "\n",
    "    Args:\n",
    "        lista (list): some list of names you wanna search on\n",
    "        nome (str): name you want to check\n",
    "\n",
    "    Returns:\n",
    "        bool: Returns True if name on the list and False if not\n",
    "    \"\"\"\n",
    "    return nome in lista\n",
    "\n",
    "\n",
    "nome_consta(laureates_peace[:5], 'Abiy Ahmed Ali')"
   ]
  },
  {
   "cell_type": "markdown",
   "metadata": {},
   "source": [
    "7.  Crie uma lista que contém informação sobre os galardoes Nobel no ano anterior. Cada \n",
    "elemento da lista é composto por informação sobre o nome de um/a galardoado/a e \n",
    "respetiva disciplina. Repare que nalgumas disciplinas há mais do que um galardoado."
   ]
  },
  {
   "cell_type": "code",
   "execution_count": 66,
   "metadata": {},
   "outputs": [
    {
     "data": {
      "text/plain": [
       "[('The Nobel Prize in Physics 2022',\n",
       "  ['Alain Aspect', 'John F. Clauser', 'Anton Zeilinger']),\n",
       " ('The Nobel Prize in Chemistry 2022',\n",
       "  ['Carolyn R. Bertozzi', 'Morten Meldal', 'K. Barry Sharpless']),\n",
       " ('The Nobel Prize in Physiology or Medicine 2022', ['Svante Pääbo']),\n",
       " ('The Nobel Prize in Literature 2022', ['Annie Ernaux']),\n",
       " ('The Nobel Peace Prize 2022',\n",
       "  ['Ales Bialiatski', 'Memorial', 'Center for Civil Liberties']),\n",
       " ('The Sveriges Riksbank Prize in Economic Sciences in Memory of Alfred Nobel 2022',\n",
       "  ['Ben S. Bernanke', 'Douglas W. Diamond', 'Philip H. Dybvig'])]"
      ]
     },
     "execution_count": 66,
     "metadata": {},
     "output_type": "execute_result"
    }
   ],
   "source": [
    "from datetime import datetime\n",
    "previous_year = 2022\n",
    "\n",
    "browser = webdriver.Edge()\n",
    "\n",
    "browser.get(f'https://www.nobelprize.org/all-nobel-prizes-{previous_year}/')\n",
    "\n",
    "grids = browser.find_elements(By.CLASS_NAME, f\"article-grid\")\n",
    "\n",
    "list_of_winners = []\n",
    "for grid in grids:\n",
    "    subject = grid.find_elements(By.CLASS_NAME, 'section-header-h3')[0].text\n",
    "    winners = [winner.text for winner in grid.find_elements(\n",
    "        By.CLASS_NAME, 'headline')]\n",
    "    list_of_winners.append((subject, winners))\n",
    "\n",
    "browser.quit()\n",
    "list_of_winners"
   ]
  },
  {
   "cell_type": "markdown",
   "metadata": {},
   "source": [
    "a. Crie código para acrescentar elementos à lista "
   ]
  },
  {
   "cell_type": "code",
   "execution_count": 67,
   "metadata": {},
   "outputs": [
    {
     "data": {
      "text/plain": [
       "[('The Nobel Prize in Physics 2022',\n",
       "  ['Alain Aspect', 'John F. Clauser', 'Anton Zeilinger']),\n",
       " ('The Nobel Prize in Chemistry 2022',\n",
       "  ['Carolyn R. Bertozzi', 'Morten Meldal', 'K. Barry Sharpless']),\n",
       " ('The Nobel Prize in Physiology or Medicine 2022', ['Svante Pääbo']),\n",
       " ('The Nobel Prize in Literature 2022', ['Annie Ernaux']),\n",
       " ('The Nobel Peace Prize 2022',\n",
       "  ['Ales Bialiatski', 'Memorial', 'Center for Civil Liberties']),\n",
       " ('The Sveriges Riksbank Prize in Economic Sciences in Memory of Alfred Nobel 2022',\n",
       "  ['Ben S. Bernanke', 'Douglas W. Diamond', 'Philip H. Dybvig']),\n",
       " ('Programming 2022', ['Alan Turing', 'Linus Torvalds'])]"
      ]
     },
     "execution_count": 67,
     "metadata": {},
     "output_type": "execute_result"
    }
   ],
   "source": [
    "def add_element(subject: str, names: list):\n",
    "    \"\"\"Adds an element to the List of Winners\n",
    "\n",
    "    Args:\n",
    "        subject (str): Name of the subject you are adding\n",
    "        names (list): List of names (str) you want to add. \n",
    "    \"\"\"\n",
    "    list_of_winners.append((subject, names))\n",
    "\n",
    "\n",
    "add_element(f'Programming {previous_year}', ['Alan Turing', 'Linus Torvalds'])\n",
    "list_of_winners"
   ]
  },
  {
   "cell_type": "markdown",
   "metadata": {},
   "source": [
    "b. Crie código para pesquisar por nome "
   ]
  },
  {
   "cell_type": "code",
   "execution_count": 68,
   "metadata": {},
   "outputs": [],
   "source": [
    "def find_subject(subject: str):\n",
    "    \"\"\"Search for subject by string argument\n",
    "\n",
    "    Args:\n",
    "        subject (str): name of the subject you are trying to find.\n",
    "\n",
    "    Returns:\n",
    "        str: Returns subject if found or error 404 if not\n",
    "    \"\"\"\n",
    "    lista = []\n",
    "    switch = 0\n",
    "    for winner in list_of_winners:\n",
    "        lista.append(winner[0])\n",
    "    for sub in lista:\n",
    "        if subject in sub:\n",
    "            switch = 1\n",
    "            print(f'Found subject: {sub}')\n",
    "            break\n",
    "    if switch == 0:\n",
    "        print('Error 404: Subject Not Found')"
   ]
  },
  {
   "cell_type": "code",
   "execution_count": 69,
   "metadata": {},
   "outputs": [
    {
     "name": "stdout",
     "output_type": "stream",
     "text": [
      "Found subject: The Nobel Prize in Physics 2022\n"
     ]
    }
   ],
   "source": [
    "find_subject('Physics')"
   ]
  },
  {
   "cell_type": "code",
   "execution_count": 70,
   "metadata": {},
   "outputs": [
    {
     "name": "stdout",
     "output_type": "stream",
     "text": [
      "Found subject: The Nobel Prize in Chemistry 2022\n"
     ]
    }
   ],
   "source": [
    "find_subject('Chemistry')"
   ]
  },
  {
   "cell_type": "code",
   "execution_count": 71,
   "metadata": {},
   "outputs": [
    {
     "name": "stdout",
     "output_type": "stream",
     "text": [
      "Error 404: Subject Not Found\n"
     ]
    }
   ],
   "source": [
    "find_subject('Engineering')"
   ]
  },
  {
   "cell_type": "markdown",
   "metadata": {},
   "source": [
    "c. Crie código para pesquisar por galardoado "
   ]
  },
  {
   "cell_type": "code",
   "execution_count": 72,
   "metadata": {},
   "outputs": [],
   "source": [
    "def find_winner(laureate: str):\n",
    "    \"\"\"Search for winners by string argument\n",
    "\n",
    "    Args:\n",
    "        laureate (str): name of the person you are trying to search \n",
    "        (either first or last name)\n",
    "\n",
    "    Returns:\n",
    "        str: Returns full name of the person if found or 'Error 404: Not found'\n",
    "    \"\"\"\n",
    "    lista = []\n",
    "    switch = 0\n",
    "    for winners in list_of_winners:\n",
    "        for person in winners[1]:\n",
    "            lista.append(person)\n",
    "    for lau in lista:\n",
    "        if laureate in lau:\n",
    "            switch = 1\n",
    "            print(f'Laureate(s) found: {lau}')\n",
    "            break\n",
    "    if switch == 0:\n",
    "        print('Error 404: Not found!')"
   ]
  },
  {
   "cell_type": "code",
   "execution_count": 73,
   "metadata": {},
   "outputs": [
    {
     "name": "stdout",
     "output_type": "stream",
     "text": [
      "Laureate(s) found: Carolyn R. Bertozzi\n"
     ]
    }
   ],
   "source": [
    "find_winner('Carolyn')"
   ]
  },
  {
   "cell_type": "code",
   "execution_count": 74,
   "metadata": {},
   "outputs": [
    {
     "name": "stdout",
     "output_type": "stream",
     "text": [
      "Error 404: Not found!\n"
     ]
    }
   ],
   "source": [
    "find_winner('Bill Gates')"
   ]
  },
  {
   "cell_type": "markdown",
   "metadata": {},
   "source": [
    "8.  Escreva  um  dicionário  Português  /  Francês  que  inicialmente  inclui  cinco  palavras \n",
    "traduzidas (à sua escolha). Crie a função existe_palavra(txt) para determinar se \n",
    "uma dada palavra já existe no dicionário."
   ]
  },
  {
   "cell_type": "code",
   "execution_count": 75,
   "metadata": {},
   "outputs": [
    {
     "data": {
      "text/plain": [
       "True"
      ]
     },
     "execution_count": 75,
     "metadata": {},
     "output_type": "execute_result"
    }
   ],
   "source": [
    "pt_fr = {\n",
    "    'computador': 'ordinateur',\n",
    "    'caneca': 'tasse',\n",
    "    'mundo': 'monde',\n",
    "    'guitarra': 'guitare',\n",
    "    'cadeira': 'chaise'\n",
    "}\n",
    "\n",
    "\n",
    "def existe_palavra(txt: str):\n",
    "    \"\"\"Verifica se a palavra existe no dicionário pt-fr\n",
    "\n",
    "    Args:\n",
    "        txt (str): palavra a verificar\n",
    "\n",
    "    Returns:\n",
    "        bool: True / False\n",
    "    \"\"\"\n",
    "    dic_list = []\n",
    "    for k, v in pt_fr.items():\n",
    "        dic_list.append(k)\n",
    "        dic_list.append(v)\n",
    "    return txt in dic_list\n",
    "\n",
    "\n",
    "existe_palavra('mundo')"
   ]
  },
  {
   "cell_type": "markdown",
   "metadata": {},
   "source": [
    "9. Crie um dicionário que contém o número dos meses do ano e os respetivos nomes.  "
   ]
  },
  {
   "cell_type": "code",
   "execution_count": 76,
   "metadata": {},
   "outputs": [],
   "source": [
    "meses = {\n",
    "    1: \"Janeiro\",\n",
    "    2: \"Fevereiro\",\n",
    "    3: \"Março\",\n",
    "    4: \"Abril\",\n",
    "    5: \"Maio\",\n",
    "    6: \"Junho\",\n",
    "    7: \"Julho\",\n",
    "    8: \"Agosto\",\n",
    "    9: \"Setembro\",\n",
    "    10: \"Outubro\",\n",
    "    11: \"Novembro\",\n",
    "    12: \"Dezembro\"\n",
    "}"
   ]
  },
  {
   "cell_type": "markdown",
   "metadata": {},
   "source": [
    "10. Escreva uma função que recebe número do mês do ano e devolve o respetivo nome, ou \n",
    "uma mensagem de erro se o número não for válido. "
   ]
  },
  {
   "cell_type": "code",
   "execution_count": 77,
   "metadata": {},
   "outputs": [
    {
     "name": "stdout",
     "output_type": "stream",
     "text": [
      "Fevereiro\n"
     ]
    }
   ],
   "source": [
    "def qual_mes(num_mes: int):\n",
    "    \"\"\"Recebe um número inteiro e verifica a qual mês ele se refere\n",
    "\n",
    "    Args:\n",
    "        num_mes (int): número do mês\n",
    "    \"\"\"\n",
    "    if num_mes in meses.keys():\n",
    "        print(meses[num_mes])\n",
    "    else:\n",
    "        print(f'Número Inválido')\n",
    "\n",
    "\n",
    "qual_mes(2)"
   ]
  },
  {
   "cell_type": "markdown",
   "metadata": {},
   "source": [
    "11. Ajude o Pai Natal a atribuir as prendas de Natal: crie duas listas, uma de nomes de \n",
    "pessoas, outra de prendas.  Usando a função zip(), crie um dicionário a partir das duas \n",
    "listas. Imprima os valores das pessoas e prendas respetivas."
   ]
  },
  {
   "cell_type": "code",
   "execution_count": 78,
   "metadata": {},
   "outputs": [
    {
     "data": {
      "text/plain": [
       "{'João': 'Computador', 'Maria': 'Celular', 'Ana': 'Tablet'}"
      ]
     },
     "execution_count": 78,
     "metadata": {},
     "output_type": "execute_result"
    }
   ],
   "source": [
    "nomes_de_pessoas = ['João', 'Maria', 'Ana']\n",
    "prendas = ['Computador', 'Celular', 'Tablet']\n",
    "\n",
    "lista_natal = dict(zip(nomes_de_pessoas, prendas))\n",
    "lista_natal"
   ]
  },
  {
   "cell_type": "markdown",
   "metadata": {},
   "source": [
    "12. Crie um programa que simula uma venda de fruta."
   ]
  },
  {
   "cell_type": "markdown",
   "metadata": {},
   "source": [
    "a. Comece por escrever código para criar o preçário fruta,  que contém o \n",
    "inventário do tipo de fruta vendida numa mercearia e o respetivo preço por kg. "
   ]
  },
  {
   "cell_type": "code",
   "execution_count": 79,
   "metadata": {},
   "outputs": [
    {
     "data": {
      "text/html": [
       "<div>\n",
       "<style scoped>\n",
       "    .dataframe tbody tr th:only-of-type {\n",
       "        vertical-align: middle;\n",
       "    }\n",
       "\n",
       "    .dataframe tbody tr th {\n",
       "        vertical-align: top;\n",
       "    }\n",
       "\n",
       "    .dataframe thead th {\n",
       "        text-align: right;\n",
       "    }\n",
       "</style>\n",
       "<table border=\"1\" class=\"dataframe\">\n",
       "  <thead>\n",
       "    <tr style=\"text-align: right;\">\n",
       "      <th></th>\n",
       "      <th>quantidade</th>\n",
       "      <th>preço_kg</th>\n",
       "      <th>massa</th>\n",
       "    </tr>\n",
       "  </thead>\n",
       "  <tbody>\n",
       "    <tr>\n",
       "      <th>kiwi</th>\n",
       "      <td>35.0</td>\n",
       "      <td>18.99</td>\n",
       "      <td>90.0</td>\n",
       "    </tr>\n",
       "    <tr>\n",
       "      <th>maça</th>\n",
       "      <td>55.0</td>\n",
       "      <td>9.99</td>\n",
       "      <td>140.0</td>\n",
       "    </tr>\n",
       "    <tr>\n",
       "      <th>laranja</th>\n",
       "      <td>87.0</td>\n",
       "      <td>5.99</td>\n",
       "      <td>150.0</td>\n",
       "    </tr>\n",
       "  </tbody>\n",
       "</table>\n",
       "</div>"
      ],
      "text/plain": [
       "         quantidade  preço_kg  massa\n",
       "kiwi           35.0     18.99   90.0\n",
       "maça           55.0      9.99  140.0\n",
       "laranja        87.0      5.99  150.0"
      ]
     },
     "execution_count": 79,
     "metadata": {},
     "output_type": "execute_result"
    }
   ],
   "source": [
    "import pandas as pd\n",
    "frutas = {\n",
    "    'kiwi': {'quantidade': 35, 'preço_kg': 18.99, 'massa': 90},\n",
    "    'maça': {'quantidade': 55, 'preço_kg': 9.99, 'massa': 140},\n",
    "    'laranja': {'quantidade': 87, 'preço_kg': 5.99, 'massa': 150},\n",
    "}\n",
    "\n",
    "\n",
    "frutas_df = pd.DataFrame(frutas)\n",
    "frutas_df = frutas_df.transpose()\n",
    "frutas_df"
   ]
  },
  {
   "cell_type": "markdown",
   "metadata": {},
   "source": [
    "b. Em seguida, escreva uma função que calcula o preço de venda de fruta a um \n",
    "cliente. A função deve receber o inventário da fruta existente para venda na \n",
    "mercearia, a quantidade vendida e imprimir o preço total. O programa deve \n",
    "mostrar uma mensagem de erro caso o produto não exista na mercearia. O \n",
    "programa para quando o utilizador assim o indicar."
   ]
  },
  {
   "cell_type": "code",
   "execution_count": 85,
   "metadata": {},
   "outputs": [
    {
     "name": "stdout",
     "output_type": "stream",
     "text": [
      "Preço total da fruta \"maça\": R$ 12.59\n",
      "Preço total da fruta \"kiwi\": R$ 3.42\n",
      "Valor total da compra: R$ 16.01\n"
     ]
    }
   ],
   "source": [
    "def calcula_valor_fruta():\n",
    "    \"\"\"Calcula o valor total de uma compra de frutas\n",
    "    \"\"\"\n",
    "    flag = 0\n",
    "    valor_total = 0\n",
    "\n",
    "    while flag == 0:\n",
    "        fruta = str(input('Digite uma fruta: '))\n",
    "        while True:\n",
    "            qt = int(input('Digite quantas unidades: '))\n",
    "            if qt > 0:\n",
    "                break\n",
    "        if fruta not in frutas_df.index:\n",
    "            print(f'A fruta {fruta} não foi encontrada')\n",
    "        elif qt > frutas_df.loc[fruta, 'quantidade']:\n",
    "            print('Quantidade insuficiente em estoque')\n",
    "        else:\n",
    "            preço = qt * frutas_df.loc[fruta, 'massa'] * \\\n",
    "                frutas_df.loc[fruta, 'preço_kg'] / 1000\n",
    "            valor_total += preço\n",
    "            print(f'Preço total da fruta \"{fruta}\": R$ {preço:.2f}')\n",
    "            quer_continuar = str(input('Deseja continuar? (S/N) ')).upper()\n",
    "            if quer_continuar == 'N':\n",
    "                flag = 1\n",
    "                print(f'Valor total da compra: R$ {valor_total:.2f}')\n",
    "            elif quer_continuar == 'S':\n",
    "                flag = 0\n",
    "            else:\n",
    "                print('Opção inválida')\n",
    "\n",
    "\n",
    "calcula_valor_fruta()"
   ]
  }
 ],
 "metadata": {
  "kernelspec": {
   "display_name": "Python 3",
   "language": "python",
   "name": "python3"
  },
  "language_info": {
   "codemirror_mode": {
    "name": "ipython",
    "version": 3
   },
   "file_extension": ".py",
   "mimetype": "text/x-python",
   "name": "python",
   "nbconvert_exporter": "python",
   "pygments_lexer": "ipython3",
   "version": "3.12.1"
  }
 },
 "nbformat": 4,
 "nbformat_minor": 2
}
